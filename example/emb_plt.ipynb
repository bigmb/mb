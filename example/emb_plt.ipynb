{
 "cells": [
  {
   "cell_type": "code",
   "execution_count": 1,
   "metadata": {},
   "outputs": [],
   "source": [
    "#testing pca/umap/tsne embeddings with test data"
   ]
  },
  {
   "cell_type": "code",
   "execution_count": 2,
   "metadata": {},
   "outputs": [],
   "source": [
    "from mb.plt import generate_sprite_images, get_emb, viz_emb"
   ]
  },
  {
   "cell_type": "code",
   "execution_count": 6,
   "metadata": {},
   "outputs": [
    {
     "data": {
      "text/html": [
       "<div>\n",
       "<style scoped>\n",
       "    .dataframe tbody tr th:only-of-type {\n",
       "        vertical-align: middle;\n",
       "    }\n",
       "\n",
       "    .dataframe tbody tr th {\n",
       "        vertical-align: top;\n",
       "    }\n",
       "\n",
       "    .dataframe thead th {\n",
       "        text-align: right;\n",
       "    }\n",
       "</style>\n",
       "<table border=\"1\" class=\"dataframe\">\n",
       "  <thead>\n",
       "    <tr style=\"text-align: right;\">\n",
       "      <th></th>\n",
       "      <th>embeddings</th>\n",
       "      <th>taxcode</th>\n",
       "    </tr>\n",
       "  </thead>\n",
       "  <tbody>\n",
       "    <tr>\n",
       "      <th>0</th>\n",
       "      <td>[0.8902577683232021, 0.23955761084335636, 0.75...</td>\n",
       "      <td>3</td>\n",
       "    </tr>\n",
       "    <tr>\n",
       "      <th>1</th>\n",
       "      <td>[0.03113053071523897, 0.6722998709516854, 0.80...</td>\n",
       "      <td>3</td>\n",
       "    </tr>\n",
       "    <tr>\n",
       "      <th>2</th>\n",
       "      <td>[0.15195685902404532, 0.9815587156171075, 0.46...</td>\n",
       "      <td>1</td>\n",
       "    </tr>\n",
       "    <tr>\n",
       "      <th>3</th>\n",
       "      <td>[0.16669100125717073, 0.4725160701871287, 0.92...</td>\n",
       "      <td>2</td>\n",
       "    </tr>\n",
       "    <tr>\n",
       "      <th>4</th>\n",
       "      <td>[0.07773549529147938, 0.9155803835849232, 0.55...</td>\n",
       "      <td>1</td>\n",
       "    </tr>\n",
       "  </tbody>\n",
       "</table>\n",
       "</div>"
      ],
      "text/plain": [
       "                                          embeddings taxcode\n",
       "0  [0.8902577683232021, 0.23955761084335636, 0.75...       3\n",
       "1  [0.03113053071523897, 0.6722998709516854, 0.80...       3\n",
       "2  [0.15195685902404532, 0.9815587156171075, 0.46...       1\n",
       "3  [0.16669100125717073, 0.4725160701871287, 0.92...       2\n",
       "4  [0.07773549529147938, 0.9155803835849232, 0.55...       1"
      ]
     },
     "execution_count": 6,
     "metadata": {},
     "output_type": "execute_result"
    }
   ],
   "source": [
    "#create test data\n",
    "import mb.pandas as pd\n",
    "import mb.numpy as np\n",
    "\n",
    "dummy_data = np.random.rand(50,10)\n",
    "labels = np.random.choice(['1', '2', '3'], size=50)\n",
    "t1 = pd.DataFrame()\n",
    "t1['embeddings'] = dummy_data.tolist()\n",
    "t1['taxcode'] = labels\n",
    "t1.head()\n"
   ]
  },
  {
   "cell_type": "code",
   "execution_count": 7,
   "metadata": {},
   "outputs": [
    {
     "name": "stderr",
     "output_type": "stream",
     "text": [
      "Mon 11:20:33,805 INF Data shape (50, 2)                                                                                              \n",
      "Mon 11:20:33,807 INF Data columns Index(['embeddings', 'taxcode'], dtype='object')                                                   \n",
      "Mon 11:20:33,809 INF Performing pca on embeddings embeddings                                                                         \n",
      "Mon 11:20:33,812 INF First PCA transform result : [ 0.3439226 -0.2550145]                                                            \n",
      "Mon 11:20:33,814 INF Dropped original embedding column                                                                               \n"
     ]
    }
   ],
   "source": [
    "from mb.utils import logger \n",
    "\n",
    "pca_t1 = get_emb(t1, emb='embeddings', emb_type='pca', dim=2,keep_original_emb=False,file_save=None, logger=logger)"
   ]
  },
  {
   "cell_type": "code",
   "execution_count": 8,
   "metadata": {},
   "outputs": [
    {
     "data": {
      "text/html": [
       "<div>\n",
       "<style scoped>\n",
       "    .dataframe tbody tr th:only-of-type {\n",
       "        vertical-align: middle;\n",
       "    }\n",
       "\n",
       "    .dataframe tbody tr th {\n",
       "        vertical-align: top;\n",
       "    }\n",
       "\n",
       "    .dataframe thead th {\n",
       "        text-align: right;\n",
       "    }\n",
       "</style>\n",
       "<table border=\"1\" class=\"dataframe\">\n",
       "  <thead>\n",
       "    <tr style=\"text-align: right;\">\n",
       "      <th></th>\n",
       "      <th>taxcode</th>\n",
       "      <th>emb_res</th>\n",
       "    </tr>\n",
       "  </thead>\n",
       "  <tbody>\n",
       "    <tr>\n",
       "      <th>0</th>\n",
       "      <td>3</td>\n",
       "      <td>[0.34392259961852234, -0.25501450031723627]</td>\n",
       "    </tr>\n",
       "    <tr>\n",
       "      <th>1</th>\n",
       "      <td>3</td>\n",
       "      <td>[0.10062599551738942, 0.5438365101968179]</td>\n",
       "    </tr>\n",
       "    <tr>\n",
       "      <th>2</th>\n",
       "      <td>1</td>\n",
       "      <td>[-0.5082845715032477, 0.5543334370959069]</td>\n",
       "    </tr>\n",
       "    <tr>\n",
       "      <th>3</th>\n",
       "      <td>2</td>\n",
       "      <td>[0.24483506811613134, 0.37243774076921177]</td>\n",
       "    </tr>\n",
       "    <tr>\n",
       "      <th>4</th>\n",
       "      <td>1</td>\n",
       "      <td>[-0.12210938680265751, -0.17944811790625756]</td>\n",
       "    </tr>\n",
       "  </tbody>\n",
       "</table>\n",
       "</div>"
      ],
      "text/plain": [
       "  taxcode                                       emb_res\n",
       "0       3   [0.34392259961852234, -0.25501450031723627]\n",
       "1       3     [0.10062599551738942, 0.5438365101968179]\n",
       "2       1     [-0.5082845715032477, 0.5543334370959069]\n",
       "3       2    [0.24483506811613134, 0.37243774076921177]\n",
       "4       1  [-0.12210938680265751, -0.17944811790625756]"
      ]
     },
     "execution_count": 8,
     "metadata": {},
     "output_type": "execute_result"
    }
   ],
   "source": [
    "pca_t1.head()"
   ]
  },
  {
   "cell_type": "code",
   "execution_count": 9,
   "metadata": {},
   "outputs": [
    {
     "ename": "TypeError",
     "evalue": "viz_emb() got an unexpected keyword argument 'emb'",
     "output_type": "error",
     "traceback": [
      "\u001b[0;31m---------------------------------------------------------------------------\u001b[0m",
      "\u001b[0;31mTypeError\u001b[0m                                 Traceback (most recent call last)",
      "\u001b[0;32m<ipython-input-9-fb6ccbc7d670>\u001b[0m in \u001b[0;36m<module>\u001b[0;34m\u001b[0m\n\u001b[0;32m----> 1\u001b[0;31m \u001b[0mviz_emb\u001b[0m\u001b[0;34m(\u001b[0m\u001b[0mpca_t1\u001b[0m\u001b[0;34m,\u001b[0m \u001b[0memb\u001b[0m\u001b[0;34m=\u001b[0m\u001b[0;34m'emb_res'\u001b[0m\u001b[0;34m,\u001b[0m \u001b[0mviz_type\u001b[0m\u001b[0;34m=\u001b[0m\u001b[0;34m'plt'\u001b[0m\u001b[0;34m,\u001b[0m \u001b[0mlogger\u001b[0m\u001b[0;34m=\u001b[0m\u001b[0mlogger\u001b[0m\u001b[0;34m)\u001b[0m\u001b[0;34m\u001b[0m\u001b[0;34m\u001b[0m\u001b[0m\n\u001b[0m",
      "\u001b[0;31mTypeError\u001b[0m: viz_emb() got an unexpected keyword argument 'emb'"
     ]
    }
   ],
   "source": [
    "viz_emb(pca_t1, emb_column='emb_res', viz_type='plt', logger=logger)"
   ]
  },
  {
   "cell_type": "code",
   "execution_count": null,
   "metadata": {},
   "outputs": [],
   "source": []
  }
 ],
 "metadata": {
  "kernelspec": {
   "display_name": "Python 3",
   "language": "python",
   "name": "python3"
  },
  "language_info": {
   "codemirror_mode": {
    "name": "ipython",
    "version": 3
   },
   "file_extension": ".py",
   "mimetype": "text/x-python",
   "name": "python",
   "nbconvert_exporter": "python",
   "pygments_lexer": "ipython3",
   "version": "3.8.10"
  },
  "orig_nbformat": 4,
  "vscode": {
   "interpreter": {
    "hash": "31f2aee4e71d21fbe5cf8b01ff0e069b9275f58929596ceb00d14d90e3e16cd6"
   }
  }
 },
 "nbformat": 4,
 "nbformat_minor": 2
}
