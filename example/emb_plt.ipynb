{
 "cells": [
  {
   "cell_type": "code",
   "execution_count": 1,
   "metadata": {},
   "outputs": [],
   "source": [
    "#testing pca/umap/tsne embeddings with test data"
   ]
  },
  {
   "cell_type": "code",
   "execution_count": 2,
   "metadata": {},
   "outputs": [],
   "source": [
    "from mb.plt import generate_sprite_images, get_emb, viz_emb"
   ]
  },
  {
   "cell_type": "code",
   "execution_count": 3,
   "metadata": {},
   "outputs": [
    {
     "data": {
      "text/html": [
       "<div>\n",
       "<style scoped>\n",
       "    .dataframe tbody tr th:only-of-type {\n",
       "        vertical-align: middle;\n",
       "    }\n",
       "\n",
       "    .dataframe tbody tr th {\n",
       "        vertical-align: top;\n",
       "    }\n",
       "\n",
       "    .dataframe thead th {\n",
       "        text-align: right;\n",
       "    }\n",
       "</style>\n",
       "<table border=\"1\" class=\"dataframe\">\n",
       "  <thead>\n",
       "    <tr style=\"text-align: right;\">\n",
       "      <th></th>\n",
       "      <th>embeddings</th>\n",
       "      <th>taxcode</th>\n",
       "    </tr>\n",
       "  </thead>\n",
       "  <tbody>\n",
       "    <tr>\n",
       "      <th>0</th>\n",
       "      <td>[0.8069193910626947, 0.48208929580749016, 0.88...</td>\n",
       "      <td>2</td>\n",
       "    </tr>\n",
       "    <tr>\n",
       "      <th>1</th>\n",
       "      <td>[0.3880616282173216, 0.3281269441985728, 0.898...</td>\n",
       "      <td>1</td>\n",
       "    </tr>\n",
       "    <tr>\n",
       "      <th>2</th>\n",
       "      <td>[0.9009203868267549, 0.18671844774277413, 0.00...</td>\n",
       "      <td>1</td>\n",
       "    </tr>\n",
       "    <tr>\n",
       "      <th>3</th>\n",
       "      <td>[0.8330364766339076, 0.6835626853608062, 0.429...</td>\n",
       "      <td>1</td>\n",
       "    </tr>\n",
       "    <tr>\n",
       "      <th>4</th>\n",
       "      <td>[0.6885489875314659, 0.5853837131900395, 0.694...</td>\n",
       "      <td>1</td>\n",
       "    </tr>\n",
       "  </tbody>\n",
       "</table>\n",
       "</div>"
      ],
      "text/plain": [
       "                                          embeddings taxcode\n",
       "0  [0.8069193910626947, 0.48208929580749016, 0.88...       2\n",
       "1  [0.3880616282173216, 0.3281269441985728, 0.898...       1\n",
       "2  [0.9009203868267549, 0.18671844774277413, 0.00...       1\n",
       "3  [0.8330364766339076, 0.6835626853608062, 0.429...       1\n",
       "4  [0.6885489875314659, 0.5853837131900395, 0.694...       1"
      ]
     },
     "execution_count": 3,
     "metadata": {},
     "output_type": "execute_result"
    }
   ],
   "source": [
    "#create test data\n",
    "import mb.pandas as pd\n",
    "import mb.numpy as np\n",
    "\n",
    "dummy_data = np.random.rand(50,10)\n",
    "labels = np.random.choice(['1', '2', '3'], size=50)\n",
    "t1 = pd.DataFrame()\n",
    "t1['embeddings'] = dummy_data.tolist()\n",
    "t1['taxcode'] = labels\n",
    "t1.head()\n"
   ]
  },
  {
   "cell_type": "code",
   "execution_count": 4,
   "metadata": {},
   "outputs": [
    {
     "name": "stderr",
     "output_type": "stream",
     "text": [
      "Mon 12:03:20,262 INF Data shape (50, 2)                                                                                              \n",
      "Mon 12:03:20,265 INF Data columns Index(['embeddings', 'taxcode'], dtype='object')                                                   \n",
      "Mon 12:03:20,266 INF Performing pca on embeddings embeddings                                                                         \n",
      "Mon 12:03:20,271 INF First PCA transform result : [ 0.12149224 -0.65290911]                                                          \n",
      "Mon 12:03:20,273 INF Dropped original embedding column                                                                               \n"
     ]
    }
   ],
   "source": [
    "from mb.utils import logger \n",
    "\n",
    "pca_t1 = get_emb(t1, emb='embeddings', emb_type='pca', dim=2,keep_original_emb=False,file_save=None, logger=logger)"
   ]
  },
  {
   "cell_type": "code",
   "execution_count": 5,
   "metadata": {},
   "outputs": [
    {
     "data": {
      "text/html": [
       "<div>\n",
       "<style scoped>\n",
       "    .dataframe tbody tr th:only-of-type {\n",
       "        vertical-align: middle;\n",
       "    }\n",
       "\n",
       "    .dataframe tbody tr th {\n",
       "        vertical-align: top;\n",
       "    }\n",
       "\n",
       "    .dataframe thead th {\n",
       "        text-align: right;\n",
       "    }\n",
       "</style>\n",
       "<table border=\"1\" class=\"dataframe\">\n",
       "  <thead>\n",
       "    <tr style=\"text-align: right;\">\n",
       "      <th></th>\n",
       "      <th>taxcode</th>\n",
       "      <th>emb_res</th>\n",
       "    </tr>\n",
       "  </thead>\n",
       "  <tbody>\n",
       "    <tr>\n",
       "      <th>0</th>\n",
       "      <td>2</td>\n",
       "      <td>[0.12149223540341034, -0.6529091102349587]</td>\n",
       "    </tr>\n",
       "    <tr>\n",
       "      <th>1</th>\n",
       "      <td>1</td>\n",
       "      <td>[0.2940269424923034, -0.3406578992803217]</td>\n",
       "    </tr>\n",
       "    <tr>\n",
       "      <th>2</th>\n",
       "      <td>1</td>\n",
       "      <td>[-0.28102086728892883, -0.2207744194596543]</td>\n",
       "    </tr>\n",
       "    <tr>\n",
       "      <th>3</th>\n",
       "      <td>1</td>\n",
       "      <td>[0.1275395383331639, -0.632661912572503]</td>\n",
       "    </tr>\n",
       "    <tr>\n",
       "      <th>4</th>\n",
       "      <td>1</td>\n",
       "      <td>[0.15664485462463495, -0.11647338702335724]</td>\n",
       "    </tr>\n",
       "  </tbody>\n",
       "</table>\n",
       "</div>"
      ],
      "text/plain": [
       "  taxcode                                      emb_res\n",
       "0       2   [0.12149223540341034, -0.6529091102349587]\n",
       "1       1    [0.2940269424923034, -0.3406578992803217]\n",
       "2       1  [-0.28102086728892883, -0.2207744194596543]\n",
       "3       1     [0.1275395383331639, -0.632661912572503]\n",
       "4       1  [0.15664485462463495, -0.11647338702335724]"
      ]
     },
     "execution_count": 5,
     "metadata": {},
     "output_type": "execute_result"
    }
   ],
   "source": [
    "pca_t1.head()"
   ]
  },
  {
   "cell_type": "code",
   "execution_count": 6,
   "metadata": {},
   "outputs": [
    {
     "name": "stderr",
     "output_type": "stream",
     "text": [
      "Mon 12:03:20,445 INF Embedding data shape (50, 2)                                                                                    \n"
     ]
    },
    {
     "data": {
      "image/png": "[encoded data removed]",
      "text/plain": [
       "<Figure size 432x288 with 1 Axes>"
      ]
     },
     "metadata": {
      "needs_background": "light"
     },
     "output_type": "display_data"
    },
    {
     "data": {
      "text/plain": [
       "<Figure size 432x288 with 0 Axes>"
      ]
     },
     "metadata": {},
     "output_type": "display_data"
    }
   ],
   "source": [
    "viz_emb(pca_t1, emb_column='emb_res', viz_type='plt', logger=logger)"
   ]
  },
  {
   "cell_type": "code",
   "execution_count": 7,
   "metadata": {},
   "outputs": [
    {
     "name": "stderr",
     "output_type": "stream",
     "text": [
      "Mon 12:03:20,672 INF Embedding data shape (50, 2)                                                                                    \n",
      "Mon 12:03:20,677 INF Run tensorboard --logdir=./tp_logs to view embeddings                                                           \n",
      "Mon 12:03:20,679 INF if on jupyter notebook, run below code to view embeddings in notebook                                           \n",
      "Mon 12:03:20,682 INF %load_ext tensorboard                                                                                           \n",
      "Mon 12:03:20,684 INF %tensorboard --logdir=./tp_logs                                                                                 \n"
     ]
    }
   ],
   "source": [
    "viz_emb(pca_t1, emb_column='emb_res', viz_type='tf', logger=logger)"
   ]
  },
  {
   "cell_type": "code",
   "execution_count": null,
   "metadata": {},
   "outputs": [],
   "source": []
  }
 ],
 "metadata": {
  "kernelspec": {
   "display_name": "Python 3",
   "language": "python",
   "name": "python3"
  },
  "language_info": {
   "codemirror_mode": {
    "name": "ipython",
    "version": 3
   },
   "file_extension": ".py",
   "mimetype": "text/x-python",
   "name": "python",
   "nbconvert_exporter": "python",
   "pygments_lexer": "ipython3",
   "version": "3.8.10 (default, Mar 13 2023, 10:26:41) \n[GCC 9.4.0]"
  },
  "orig_nbformat": 4,
  "vscode": {
   "interpreter": {
    "hash": "31f2aee4e71d21fbe5cf8b01ff0e069b9275f58929596ceb00d14d90e3e16cd6"
   }
  }
 },
 "nbformat": 4,
 "nbformat_minor": 2
}
