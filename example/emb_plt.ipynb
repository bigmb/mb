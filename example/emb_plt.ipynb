{
 "cells": [
  {
   "cell_type": "code",
   "execution_count": 1,
   "metadata": {},
   "outputs": [],
   "source": [
    "#testing pca/umap/tsne embeddings with test data"
   ]
  },
  {
   "cell_type": "code",
   "execution_count": 2,
   "metadata": {},
   "outputs": [],
   "source": [
    "from mb.plt import generate_sprite_images, get_emb, viz_emb"
   ]
  },
  {
   "cell_type": "code",
   "execution_count": 3,
   "metadata": {},
   "outputs": [
    {
     "data": {
      "text/html": [
       "<div>\n",
       "<style scoped>\n",
       "    .dataframe tbody tr th:only-of-type {\n",
       "        vertical-align: middle;\n",
       "    }\n",
       "\n",
       "    .dataframe tbody tr th {\n",
       "        vertical-align: top;\n",
       "    }\n",
       "\n",
       "    .dataframe thead th {\n",
       "        text-align: right;\n",
       "    }\n",
       "</style>\n",
       "<table border=\"1\" class=\"dataframe\">\n",
       "  <thead>\n",
       "    <tr style=\"text-align: right;\">\n",
       "      <th></th>\n",
       "      <th>embeddings</th>\n",
       "      <th>taxcode</th>\n",
       "    </tr>\n",
       "  </thead>\n",
       "  <tbody>\n",
       "    <tr>\n",
       "      <th>0</th>\n",
       "      <td>[0.7272542508505193, 0.14298128455032033, 0.76...</td>\n",
       "      <td>2</td>\n",
       "    </tr>\n",
       "    <tr>\n",
       "      <th>1</th>\n",
       "      <td>[0.5817260411061542, 0.5640316246545577, 0.376...</td>\n",
       "      <td>2</td>\n",
       "    </tr>\n",
       "    <tr>\n",
       "      <th>2</th>\n",
       "      <td>[0.08900699042045668, 0.8658273753317542, 0.44...</td>\n",
       "      <td>2</td>\n",
       "    </tr>\n",
       "    <tr>\n",
       "      <th>3</th>\n",
       "      <td>[0.3195887782130058, 0.45973038114430664, 0.16...</td>\n",
       "      <td>3</td>\n",
       "    </tr>\n",
       "    <tr>\n",
       "      <th>4</th>\n",
       "      <td>[0.8883502955707225, 0.5366166483142959, 0.324...</td>\n",
       "      <td>1</td>\n",
       "    </tr>\n",
       "  </tbody>\n",
       "</table>\n",
       "</div>"
      ],
      "text/plain": [
       "                                          embeddings taxcode\n",
       "0  [0.7272542508505193, 0.14298128455032033, 0.76...       2\n",
       "1  [0.5817260411061542, 0.5640316246545577, 0.376...       2\n",
       "2  [0.08900699042045668, 0.8658273753317542, 0.44...       2\n",
       "3  [0.3195887782130058, 0.45973038114430664, 0.16...       3\n",
       "4  [0.8883502955707225, 0.5366166483142959, 0.324...       1"
      ]
     },
     "execution_count": 3,
     "metadata": {},
     "output_type": "execute_result"
    }
   ],
   "source": [
    "#create test data\n",
    "import mb.pandas as pd\n",
    "import mb.numpy as np\n",
    "\n",
    "dummy_data = np.random.rand(50,10)\n",
    "labels = np.random.choice(['1', '2', '3'], size=50)\n",
    "t1 = pd.DataFrame()\n",
    "t1['embeddings'] = dummy_data.tolist()\n",
    "t1['taxcode'] = labels\n",
    "t1.head()\n"
   ]
  },
  {
   "cell_type": "code",
   "execution_count": 4,
   "metadata": {},
   "outputs": [
    {
     "name": "stderr",
     "output_type": "stream",
     "text": [
      "Mon 11:43:03,290 INF Data shape (50, 2)                                                                                              \n",
      "Mon 11:43:03,292 INF Data columns Index(['embeddings', 'taxcode'], dtype='object')                                                   \n",
      "Mon 11:43:03,294 INF Performing pca on embeddings embeddings                                                                         \n",
      "Mon 11:43:03,297 INF First PCA transform result : [-0.22230574 -0.18129859]                                                          \n",
      "Mon 11:43:03,300 INF Dropped original embedding column                                                                               \n"
     ]
    }
   ],
   "source": [
    "from mb.utils import logger \n",
    "\n",
    "pca_t1 = get_emb(t1, emb='embeddings', emb_type='pca', dim=2,keep_original_emb=False,file_save=None, logger=logger)"
   ]
  },
  {
   "cell_type": "code",
   "execution_count": 5,
   "metadata": {},
   "outputs": [
    {
     "data": {
      "text/html": [
       "<div>\n",
       "<style scoped>\n",
       "    .dataframe tbody tr th:only-of-type {\n",
       "        vertical-align: middle;\n",
       "    }\n",
       "\n",
       "    .dataframe tbody tr th {\n",
       "        vertical-align: top;\n",
       "    }\n",
       "\n",
       "    .dataframe thead th {\n",
       "        text-align: right;\n",
       "    }\n",
       "</style>\n",
       "<table border=\"1\" class=\"dataframe\">\n",
       "  <thead>\n",
       "    <tr style=\"text-align: right;\">\n",
       "      <th></th>\n",
       "      <th>taxcode</th>\n",
       "      <th>emb_res</th>\n",
       "    </tr>\n",
       "  </thead>\n",
       "  <tbody>\n",
       "    <tr>\n",
       "      <th>0</th>\n",
       "      <td>2</td>\n",
       "      <td>[-0.22230574182435991, -0.18129859395155107]</td>\n",
       "    </tr>\n",
       "    <tr>\n",
       "      <th>1</th>\n",
       "      <td>2</td>\n",
       "      <td>[0.8090618797468584, -0.20743364708990042]</td>\n",
       "    </tr>\n",
       "    <tr>\n",
       "      <th>2</th>\n",
       "      <td>2</td>\n",
       "      <td>[-0.441660313091649, 0.28454480521938835]</td>\n",
       "    </tr>\n",
       "    <tr>\n",
       "      <th>3</th>\n",
       "      <td>3</td>\n",
       "      <td>[0.5621413071198208, 0.2717921731401579]</td>\n",
       "    </tr>\n",
       "    <tr>\n",
       "      <th>4</th>\n",
       "      <td>1</td>\n",
       "      <td>[0.27438175344631316, 0.21332223791187085]</td>\n",
       "    </tr>\n",
       "  </tbody>\n",
       "</table>\n",
       "</div>"
      ],
      "text/plain": [
       "  taxcode                                       emb_res\n",
       "0       2  [-0.22230574182435991, -0.18129859395155107]\n",
       "1       2    [0.8090618797468584, -0.20743364708990042]\n",
       "2       2     [-0.441660313091649, 0.28454480521938835]\n",
       "3       3      [0.5621413071198208, 0.2717921731401579]\n",
       "4       1    [0.27438175344631316, 0.21332223791187085]"
      ]
     },
     "execution_count": 5,
     "metadata": {},
     "output_type": "execute_result"
    }
   ],
   "source": [
    "pca_t1.head()"
   ]
  },
  {
   "cell_type": "code",
   "execution_count": null,
   "metadata": {},
   "outputs": [],
   "source": []
  },
  {
   "cell_type": "code",
   "execution_count": 7,
   "metadata": {},
   "outputs": [
    {
     "name": "stderr",
     "output_type": "stream",
     "text": [
      "Mon 11:45:16,055 INF Embedding data shape (50, 2)                                                                                    \n",
      "/home/malav/.local/lib/python3.8/site-packages/mb/plt/emb_viz.py:122: UserWarning: No data for colormapping provided via 'c'. Parameters 'cmap' will be ignored\n",
      "  plt.scatter(emb_data[:, 0], emb_data[:, 1], cmap='Spectral')\n"
     ]
    },
    {
     "data": {
      "image/png": "[encoded data removed]",
      "text/plain": [
       "<Figure size 432x288 with 1 Axes>"
      ]
     },
     "metadata": {
      "needs_background": "light"
     },
     "output_type": "display_data"
    }
   ],
   "source": [
    "viz_emb(pca_t1, emb_column='emb_res', viz_type='plt', logger=logger)"
   ]
  },
  {
   "cell_type": "code",
   "execution_count": null,
   "metadata": {},
   "outputs": [],
   "source": [
    "viz_emb(pca_t1, emb_column='emb_res', viz_type='plt', logger=logger)"
   ]
  }
 ],
 "metadata": {
  "kernelspec": {
   "display_name": "Python 3",
   "language": "python",
   "name": "python3"
  },
  "language_info": {
   "codemirror_mode": {
    "name": "ipython",
    "version": 3
   },
   "file_extension": ".py",
   "mimetype": "text/x-python",
   "name": "python",
   "nbconvert_exporter": "python",
   "pygments_lexer": "ipython3",
   "version": "3.8.10"
  },
  "orig_nbformat": 4,
  "vscode": {
   "interpreter": {
    "hash": "31f2aee4e71d21fbe5cf8b01ff0e069b9275f58929596ceb00d14d90e3e16cd6"
   }
  }
 },
 "nbformat": 4,
 "nbformat_minor": 2
}
